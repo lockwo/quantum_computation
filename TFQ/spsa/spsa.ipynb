{
 "cells": [
  {
   "cell_type": "markdown",
   "id": "a581ccd0",
   "metadata": {},
   "source": [
    "Adapted from https://pennylane.ai/qml/demos/tutorial_spsa.html"
   ]
  },
  {
   "cell_type": "code",
   "execution_count": 15,
   "id": "ae54de10",
   "metadata": {},
   "outputs": [],
   "source": [
    "import tensorflow_quantum as tfq\n",
    "import tensorflow as tf\n",
    "import cirq\n",
    "import sympy\n",
    "from math import prod\n",
    "import numpy as np\n",
    "import matplotlib.pyplot as plt"
   ]
  },
  {
   "cell_type": "code",
   "execution_count": 16,
   "id": "6c92945e",
   "metadata": {},
   "outputs": [],
   "source": [
    "def StronglyEntanglingLayers(qubits, num_layers):\n",
    "    c = cirq.Circuit()\n",
    "    num_qubits = len(qubits)\n",
    "    num_params = num_qubits * 3 * num_layers\n",
    "    params = sympy.symbols(\"q0:%d\"%num_params)\n",
    "    counter = 0\n",
    "    for layer in range(num_layers):\n",
    "        for qubit in range(num_qubits):\n",
    "            c += cirq.ry(params[counter]).on(qubits[qubit])\n",
    "            c += cirq.rz(params[counter + 1]).on(qubits[qubit])\n",
    "            c += cirq.ry(params[counter + 2]).on(qubits[qubit])\n",
    "            counter += 3\n",
    "        for qubit in range(num_qubits - 1):\n",
    "            c += cirq.CNOT(qubits[qubit], qubits[qubit + 1])\n",
    "        c += cirq.CNOT(qubits[num_qubits - 1], qubits[0])\n",
    "    return c, params\n",
    "\n",
    "def make_model(circuit, params, op):\n",
    "    inputs = tf.keras.Input(shape=(), dtype=tf.dtypes.string)\n",
    "    init = tf.keras.initializers.RandomNormal(mean=0.0, stddev=0.1, seed=42)\n",
    "    layer1 = tfq.layers.PQC(circuit, op, repetitions=1_000, \\\n",
    "                            differentiator=tfq.differentiators.ParameterShift(), initializer=init)(inputs)\n",
    "    vqc = tf.keras.models.Model(inputs=inputs, outputs=layer1)\n",
    "    return vqc"
   ]
  },
  {
   "cell_type": "code",
   "execution_count": 17,
   "id": "3e2c65b8",
   "metadata": {},
   "outputs": [],
   "source": [
    "def ps_learning(model):\n",
    "    max_iter = 15\n",
    "    i = 0\n",
    "    tol = 1e-5\n",
    "    inputs = tfq.convert_to_tensor([cirq.Circuit()])\n",
    "    optimizer = tf.keras.optimizers.SGD(learning_rate=0.3)\n",
    "    es = [1e10]\n",
    "    while i < max_iter:\n",
    "        with tf.GradientTape() as tape:\n",
    "            energy = model(inputs)\n",
    "        grads = tape.gradient(energy, model.trainable_variables)\n",
    "        optimizer.apply_gradients(zip(grads, model.trainable_variables))\n",
    "        es.append(energy.numpy()[0])\n",
    "        if abs(es[-2] - es[-1]) < tol:\n",
    "            break\n",
    "        i += 1\n",
    "    return es[1:]\n",
    "\n",
    "from spsa import minimize\n",
    "\n",
    "def spsa_learning(model):\n",
    "    #tfq.optimizers.spsa_minimize\n",
    "    inputs = tfq.convert_to_tensor([cirq.Circuit()])\n",
    "    def f(x):\n",
    "        model.set_weights([x])\n",
    "        return model(inputs)[0][0]\n",
    "    init_params = tf.convert_to_tensor(np.random.normal(scale=0.1, size=(model.trainable_variables[0].shape[0])),\\\n",
    "                                       dtype=tf.float32)\n",
    "    log, es = minimize(f, init_params, max_iterations=300, alpha=0.2, perturb=0.15, \\\n",
    "                       lr=0.05 * ((200 * 0.1) + 1) ** 0.2)\n",
    "    return es.history[:log.num_iterations]"
   ]
  },
  {
   "cell_type": "code",
   "execution_count": 18,
   "id": "6dace627",
   "metadata": {},
   "outputs": [],
   "source": [
    "num_wires = 4\n",
    "num_layers = 5\n",
    "qubits = [cirq.GridQubit(0, i) for i in range(num_wires)]\n",
    "op = prod([cirq.Z(i) for i in qubits])\n",
    "\n",
    "model1 = make_model(*StronglyEntanglingLayers(qubits, num_layers), op=op)\n",
    "model2 = make_model(*StronglyEntanglingLayers(qubits, num_layers), op=op)"
   ]
  },
  {
   "cell_type": "code",
   "execution_count": 19,
   "id": "621e779f",
   "metadata": {},
   "outputs": [],
   "source": [
    "spsa_es = spsa_learning(model1)\n",
    "grad_es = ps_learning(model2)"
   ]
  },
  {
   "cell_type": "code",
   "execution_count": 20,
   "id": "b2967526",
   "metadata": {},
   "outputs": [],
   "source": [
    "xs = np.arange(len(spsa_es)) * 2\n",
    "xs1 = np.arange(len(grad_es)) * (2 * num_wires * num_layers * 3)"
   ]
  },
  {
   "cell_type": "code",
   "execution_count": 23,
   "id": "52554558",
   "metadata": {},
   "outputs": [
    {
     "data": {
      "image/png": "[encoded data removed]",
      "text/plain": [
       "<Figure size 864x504 with 1 Axes>"
      ]
     },
     "metadata": {
      "needs_background": "light"
     },
     "output_type": "display_data"
    }
   ],
   "source": [
    "fig = plt.figure(figsize=(12, 7))\n",
    "plt.plot(xs, spsa_es, label='SPSA', marker='o')\n",
    "#plt.plot(spsa_es, label='SPSA', marker='o')\n",
    "#plt.plot(grad_es, label='PS', marker='o')\n",
    "plt.plot(xs1, grad_es, label='PS', marker='o')\n",
    "plt.legend()\n",
    "plt.ylabel(\"Loss\")\n",
    "plt.xlabel(\"Circuit Evals\")\n",
    "plt.show()"
   ]
  },
  {
   "cell_type": "code",
   "execution_count": null,
   "id": "fe6f7ec1",
   "metadata": {},
   "outputs": [],
   "source": []
  }
 ],
 "metadata": {
  "kernelspec": {
   "display_name": "Python 3 (ipykernel)",
   "language": "python",
   "name": "python3"
  },
  "language_info": {
   "codemirror_mode": {
    "name": "ipython",
    "version": 3
   },
   "file_extension": ".py",
   "mimetype": "text/x-python",
   "name": "python",
   "nbconvert_exporter": "python",
   "pygments_lexer": "ipython3",
   "version": "3.9.7"
  }
 },
 "nbformat": 4,
 "nbformat_minor": 5
}
